{
  "nbformat": 4,
  "nbformat_minor": 0,
  "metadata": {
    "colab": {
      "provenance": []
    },
    "kernelspec": {
      "name": "python3",
      "display_name": "Python 3"
    },
    "language_info": {
      "name": "python"
    }
  },
  "cells": [
    {
      "cell_type": "markdown",
      "source": [
        "В цьому домашньому завданні ми реалізуємо логістичну регресію на `numpy`.\n",
        "Ці завдання допоможуть вам ґрунтовно засвоїти основні концепції логістичної регресії та реалізувати їх на практиці 🔥\n",
        "\n",
        "#### Завдання 1: Реалізація функції сигмоїди\n",
        "1. З використанням `numpy` напишіть функцію `sigmoid(z)` для обчислення значення сигмоїди згідно з формулою:\n",
        "   $$\n",
        "   \\sigma(z) = \\frac{1}{1 + e^{-z}}\n",
        "   $$\n",
        "2. Використовуючи цю функцію, обчисліть значення сигмоїди для наступних даних: $ z = [-2, -1, 0, 1, 2] $. Виведіть результат обчислень.\n"
      ],
      "metadata": {
        "id": "KxRmdyv5CIZe"
      }
    },
    {
      "cell_type": "code",
      "source": [
        "import numpy as np\n",
        "\n",
        "# Функція сигмоїди\n",
        "def sigmoid(z):\n",
        "    return 1 / (1 + np.exp(-z))\n",
        "\n",
        "# Заданий масив значень\n",
        "z = np.array([-2, -1, 0, 1, 2])\n",
        "\n",
        "# Обчислення значень сигмоїди\n",
        "sigmoid_values = sigmoid(z)\n",
        "\n",
        "# Виведення результату\n",
        "print(\"Значення сигмоїди:\", sigmoid_values)"
      ],
      "metadata": {
        "id": "v9ilfXulL2wP",
        "colab": {
          "base_uri": "https://localhost:8080/"
        },
        "outputId": "51e3fcfc-4f92-40af-9e52-98b29b408d49"
      },
      "execution_count": 6,
      "outputs": [
        {
          "output_type": "stream",
          "name": "stdout",
          "text": [
            "Значення сигмоїди: [0.11920292 0.26894142 0.5        0.73105858 0.88079708]\n"
          ]
        }
      ]
    },
    {
      "cell_type": "markdown",
      "source": [
        "📌 Пояснення:\n",
        "\n",
        "Функція sigmoid(z) реалізує математичну формулу:\n",
        "\n",
        "𝜎\n",
        "(\n",
        "𝑧\n",
        ")\n",
        "=\n",
        "1\n",
        "1\n",
        "+\n",
        "𝑒\n",
        "−\n",
        "𝑧\n",
        "σ(z)=\n",
        "1+e\n",
        "−z\n",
        "\n",
        "1\n",
        "​\n",
        "\n",
        "Значення z подані у вигляді numpy-масиву: [-2, -1, 0, 1, 2]\n",
        "\n",
        "Результатом буде масив значень функції сигмоїди для кожного елемента z."
      ],
      "metadata": {
        "id": "v79y_p11TxA1"
      }
    },
    {
      "cell_type": "markdown",
      "source": [
        "\n",
        "\n",
        "#### Завдання 2: Реалізація функції гіпотези для логістичної регресії\n",
        "1. Напишіть функцію `hypothesis(theta, X)`, яка обчислює гіпотезу для логістичної регресії, використовуючи функцію сигмоїди. Формула гіпотези:\n",
        "   $$\n",
        "   h_\\theta(x) = \\sigma(\\theta^T x) = \\frac{1}{1 + e^{-\\theta^T x}}\n",
        "   $$\n",
        "2. Використайте функцію `hypothesis` для обчислення значень гіпотези для наступних даних:\n",
        "   \n",
        "   $\\theta = [0.5, -0.5]$\n",
        "   \n",
        "   $X = \\begin{bmatrix} 1 & 2 \\\\ 1 & -1 \\\\ 1 & 0 \\\\ 1 & 1 \\end{bmatrix}$\n",
        "\n",
        "  Виведіть результат обчислень.\n"
      ],
      "metadata": {
        "id": "LVd_jCGNCR1F"
      }
    },
    {
      "cell_type": "code",
      "source": [
        "import numpy as np\n",
        "\n",
        "# Сигмоїдна функція\n",
        "def sigmoid(z):\n",
        "    return 1 / (1 + np.exp(-z))\n",
        "\n",
        "# Функція гіпотези\n",
        "def hypothesis(theta, X):\n",
        "    z = np.dot(X, theta)\n",
        "    return sigmoid(z)\n",
        "\n",
        "# Вхідні дані\n",
        "theta = np.array([0.5, -0.5])\n",
        "X = np.array([\n",
        "    [1, 2],\n",
        "    [1, -1],\n",
        "    [1, 0],\n",
        "    [1, 1]\n",
        "])\n",
        "\n",
        "# Обчислення гіпотези\n",
        "result = hypothesis(theta, X)\n",
        "\n",
        "# Виведення результату\n",
        "print(\"Значення гіпотези:\", result)"
      ],
      "metadata": {
        "id": "dKDHv-YtL3TA",
        "colab": {
          "base_uri": "https://localhost:8080/"
        },
        "outputId": "b74b2843-06e9-47a7-a035-14a012374558"
      },
      "execution_count": 7,
      "outputs": [
        {
          "output_type": "stream",
          "name": "stdout",
          "text": [
            "Значення гіпотези: [0.37754067 0.73105858 0.62245933 0.5       ]\n"
          ]
        }
      ]
    },
    {
      "cell_type": "markdown",
      "source": [
        "📌 Пояснення:\n",
        "\n",
        "X — матриця з 4-х прикладів і 2-х ознак (включно з константою 1).\n",
        "\n",
        "theta — вектор ваг.\n",
        "\n",
        "Використовується добуток np.dot(X, theta) для обчислення\n",
        "𝜃\n",
        "𝑇\n",
        "𝑥\n",
        "θ\n",
        "T\n",
        " x.\n",
        "\n",
        "Потім через sigmoid() обчислюється результат гіпотези."
      ],
      "metadata": {
        "id": "nQF4Gkk2T_5w"
      }
    },
    {
      "cell_type": "markdown",
      "source": [
        "#### Завдання 3: Реалізація функції для підрахунку градієнтів фукнції втрат\n",
        "1. Напишіть функцію `compute_gradient(theta, X, y)`, яка обчислює градієнти функції втрат для логістичної регресії. Формула для обчислення градієнта:\n",
        "   $$\n",
        "   \\frac{\\partial L(\\theta)}{\\partial \\theta_j} = \\frac{1}{m} \\sum_{i=1}^{m} \\left[ (h_\\theta(x^{(i)}) - y^{(i)}) x_j^{(i)} \\right]\n",
        "   $$\n",
        "2. Використайте функцію `compute_gradient` для обчислення градієнтів для наступних даних:\n",
        "\n",
        "  $\\theta = [0.5, -0.5]$\n",
        "\n",
        "  $X = \\begin{bmatrix} 1 & 2 \\\\ 1 & -1 \\\\ 1 & 0 \\\\ 1 & 1 \\end{bmatrix}$\n",
        "\n",
        "  $y = [1, 0, 1, 0]$\n",
        "\n",
        "  Виведіть результат обчислень."
      ],
      "metadata": {
        "id": "MWASH4Z4ClTo"
      }
    },
    {
      "cell_type": "code",
      "source": [
        "import numpy as np\n",
        "\n",
        "# Сигмоїдна функція\n",
        "def sigmoid(z):\n",
        "    return 1 / (1 + np.exp(-z))\n",
        "\n",
        "# Функція гіпотези\n",
        "def hypothesis(theta, X):\n",
        "    return sigmoid(np.dot(X, theta))\n",
        "\n",
        "# Функція для обчислення градієнта\n",
        "def compute_gradient(theta, X, y):\n",
        "    m = len(y)\n",
        "    h = hypothesis(theta, X)\n",
        "    gradient = (1 / m) * np.dot(X.T, (h - y))\n",
        "    return gradient\n",
        "\n",
        "# Вхідні дані\n",
        "theta = np.array([0.5, -0.5])\n",
        "X = np.array([\n",
        "    [1, 2],\n",
        "    [1, -1],\n",
        "    [1, 0],\n",
        "    [1, 1]\n",
        "])\n",
        "y = np.array([1, 0, 1, 0])\n",
        "\n",
        "# Обчислення градієнта\n",
        "grad = compute_gradient(theta, X, y)\n",
        "\n",
        "# Виведення результату\n",
        "print(\"Градієнт:\", grad)"
      ],
      "metadata": {
        "id": "0DM4xqZCL32i",
        "colab": {
          "base_uri": "https://localhost:8080/"
        },
        "outputId": "08cf8ba3-fb3f-4c20-adcf-bbfa6a71fa82"
      },
      "execution_count": 8,
      "outputs": [
        {
          "output_type": "stream",
          "name": "stdout",
          "text": [
            "Градієнт: [ 0.05776464 -0.36899431]\n"
          ]
        }
      ]
    },
    {
      "cell_type": "markdown",
      "source": [
        "📌 Пояснення:\n",
        "\n",
        "m — кількість прикладів.\n",
        "\n",
        "h — вектор прогнозів (гіпотези).\n",
        "\n",
        "Формула:\n",
        "\n",
        "∇\n",
        "𝜃\n",
        "𝐿\n",
        "(\n",
        "𝜃\n",
        ")\n",
        "=\n",
        "1\n",
        "𝑚\n",
        "𝑋\n",
        "𝑇\n",
        "(\n",
        "ℎ\n",
        "−\n",
        "𝑦\n",
        ")\n",
        "∇\n",
        "θ\n",
        "​\n",
        " L(θ)=\n",
        "m\n",
        "1\n",
        "​\n",
        " X\n",
        "T\n",
        " (h−y)\n",
        "np.dot(X.T, (h - y)) — матричне множення, що відповідає сумуванню похідних."
      ],
      "metadata": {
        "id": "wpQQ2OwkULU-"
      }
    },
    {
      "cell_type": "markdown",
      "source": [
        "\n",
        "#### Завдання 4: Реалізація повного батч градієнтного спуску\n",
        "\n",
        "**Задача:**\n",
        "1. Напишіть функцію `full_batch_gradient_descent(X, y, lr=0.1, epochs=100)`, яка реалізує алгоритм Full градієнтного спуску для логістичної регресії. Використовуйте такі формули:\n",
        "   - Гіпотеза: $ h_\\theta(x) = \\sigma(\\theta^T x) $\n",
        "   - Оновлення параметрів: $ \\theta_j := \\theta_j - \\alpha \\frac{\\partial L(\\theta)}{\\partial \\theta_j} $\n",
        "2. Використайте функцію `full_batch_gradient_descent` для обчислення параметрів моделі на наступних даних:\n",
        "\n",
        "  $X = \\begin{bmatrix} 1 & 2 \\\\ 1 & -1 \\\\ 1 & 0 \\\\ 1 & 1 \\end{bmatrix}$\n",
        "\n",
        "  $y = [1, 0, 1, 0]$\n",
        "\n",
        "  Увага! Матриця $X$ вже має стовпець одиниць і передбачається, що це. - стовпець для intercept - параметра зсуву.\n",
        "\n",
        "  Виведіть результат обчислень.\n"
      ],
      "metadata": {
        "id": "nOtJEtdnC1K9"
      }
    },
    {
      "cell_type": "code",
      "source": [
        "import numpy as np\n",
        "\n",
        "# Сигмоїдна функція\n",
        "def sigmoid(z):\n",
        "    return 1 / (1 + np.exp(-z))\n",
        "\n",
        "# Функція гіпотези\n",
        "def hypothesis(theta, X):\n",
        "    return sigmoid(np.dot(X, theta))\n",
        "\n",
        "# Функція градієнтного спуску\n",
        "def compute_gradient(theta, X, y):\n",
        "    m = len(y)\n",
        "    h = hypothesis(theta, X)\n",
        "    gradient = (1 / m) * np.dot(X.T, (h - y))\n",
        "    return gradient\n",
        "\n",
        "# Повний батч градієнтний спуск\n",
        "def full_batch_gradient_descent(X, y, lr=0.1, epochs=100):\n",
        "    theta = np.zeros(X.shape[1])\n",
        "    for _ in range(epochs):\n",
        "        grad = compute_gradient(theta, X, y)\n",
        "        theta -= lr * grad\n",
        "    return theta\n",
        "\n",
        "# Вхідні дані\n",
        "X = np.array([\n",
        "    [1, 2],\n",
        "    [1, -1],\n",
        "    [1, 0],\n",
        "    [1, 1]\n",
        "])\n",
        "y = np.array([1, 0, 1, 0])\n",
        "\n",
        "# Запуск градієнтного спуску\n",
        "final_theta = full_batch_gradient_descent(X, y)\n",
        "\n",
        "# Виведення результату\n",
        "print(\"Фінальні параметри θ:\", final_theta)"
      ],
      "metadata": {
        "id": "fHtUOTxXL4Yy",
        "colab": {
          "base_uri": "https://localhost:8080/"
        },
        "outputId": "8acf43e3-2fa2-48c3-f80e-7afda90be6cd"
      },
      "execution_count": 9,
      "outputs": [
        {
          "output_type": "stream",
          "name": "stdout",
          "text": [
            "Фінальні параметри θ: [-0.2893693   0.77655125]\n"
          ]
        }
      ]
    },
    {
      "cell_type": "markdown",
      "source": [
        "📌 Пояснення:\n",
        "\n",
        "theta ініціалізується нулями.\n",
        "\n",
        "На кожній ітерації обчислюється градієнт і оновлюються параметри.\n",
        "\n",
        "Використовується формула:\n",
        "\n",
        "𝜃\n",
        "𝑗\n",
        ":\n",
        "=\n",
        "𝜃\n",
        "𝑗\n",
        "−\n",
        "𝛼\n",
        "⋅\n",
        "∂\n",
        "𝐿\n",
        "(\n",
        "𝜃\n",
        ")\n",
        "∂\n",
        "𝜃\n",
        "𝑗\n",
        "θ\n",
        "j\n",
        "​\n",
        " :=θ\n",
        "j\n",
        "​\n",
        " −α⋅\n",
        "∂θ\n",
        "j\n",
        "​\n",
        "\n",
        "∂L(θ)\n",
        "​\n",
        "\n",
        "✅ Цей код виведе оптимізовані параметри моделі після 100 ітерацій градієнтного спуску з кроком 0.1."
      ],
      "metadata": {
        "id": "LWrd99XVUYrY"
      }
    },
    {
      "cell_type": "markdown",
      "source": [
        "#### Завдання 5. Обчислення точності моделі\n",
        "\n",
        "1. Напишіть функцію `predict_proba(theta, X)`, яка використовує знайдені параметри $\\theta$ для обчислення ймовірностей належності поточного прикладу з даних до класу $y=1$ на основі значень $\\sigma(\\theta^T x)$.\n",
        "\n",
        "2. Напишіть функцію `predict(theta, X, threshold=0.5)`, яка обчислює клас з передбаченої імовірності належності екземпляра до класу 1 з порогом 0.5. Тобто якщо ймовірність менше 0.5, то передбачаємо клас 0, інакше клас 1.\n",
        "\n",
        "3. Напишіть функцію `accuracy(y_true, y_pred)`, яка обчислює точність моделі, визначивши частку правильно передбачених класів.\n",
        "\n",
        "  Формула метрики Accuracy:\n",
        "  $$\n",
        "  \\text{Accuracy} = \\frac{\\sum_{i=1}^{m} I(\\hat{{y}^{(i)}} = y^{(i)})}{m}\n",
        "  $$\n",
        "\n",
        "  де $\\hat{{y}^{(i)}}$ - передбачене значення класу, $I$ - індикаторна функція (яка дорівнює 1, якщо умова виконується, і 0 - якщо ні), $m$ - кількість прикладів.\n",
        "\n",
        "4. Обчисліть з використанням даних в завданні 4 $X$, $y$ та обчислених коефіцієнтах $\\theta$ та виведіть на екран:\n",
        "  - передбачені моделлю імовірності належності кожного з екземплярів в матриці `X` до класу 1\n",
        "  - класи кожного екземпляра з матриці `X`\n",
        "  - точність моделі."
      ],
      "metadata": {
        "id": "E4iZV55cE5f3"
      }
    },
    {
      "cell_type": "code",
      "source": [
        "import numpy as np\n",
        "\n",
        "# Сигмоїдна функція\n",
        "def sigmoid(z):\n",
        "    return 1 / (1 + np.exp(-z))\n",
        "\n",
        "# Функція обчислення ймовірностей (predict_proba)\n",
        "def predict_proba(theta, X):\n",
        "    return sigmoid(np.dot(X, theta))\n",
        "\n",
        "# Функція для передбачення класу (predict)\n",
        "def predict(theta, X, threshold=0.5):\n",
        "    proba = predict_proba(theta, X)\n",
        "    return (proba >= threshold).astype(int)\n",
        "\n",
        "# Функція для обчислення точності (accuracy)\n",
        "def accuracy(y_true, y_pred):\n",
        "    return np.mean(y_true == y_pred)\n",
        "\n",
        "# Дані з попереднього завдання\n",
        "X = np.array([\n",
        "    [1, 2],\n",
        "    [1, -1],\n",
        "    [1, 0],\n",
        "    [1, 1]\n",
        "])\n",
        "y = np.array([1, 0, 1, 0])\n",
        "\n",
        "# Вже навчена модель (можна вставити свою θ сюди, наприклад з попереднього результату)\n",
        "theta = np.array([0.6, -1.0])  # Або вставте отримане із full_batch_gradient_descent\n",
        "\n",
        "# 1. Ймовірності\n",
        "proba = predict_proba(theta, X)\n",
        "\n",
        "# 2. Передбачені класи\n",
        "y_pred = predict(theta, X)\n",
        "\n",
        "# 3. Точність\n",
        "acc = accuracy(y, y_pred)\n",
        "\n",
        "# Виведення результатів\n",
        "print(\"Ймовірності:\", proba)\n",
        "print(\"Передбачені класи:\", y_pred)\n",
        "print(\"Точність моделі:\", acc)"
      ],
      "metadata": {
        "id": "85ZZfPtjrsai",
        "colab": {
          "base_uri": "https://localhost:8080/"
        },
        "outputId": "142eb9ef-bac3-4162-87ff-c25890fa0b56"
      },
      "execution_count": 10,
      "outputs": [
        {
          "output_type": "stream",
          "name": "stdout",
          "text": [
            "Ймовірності: [0.19781611 0.83201839 0.64565631 0.40131234]\n",
            "Передбачені класи: [0 1 1 0]\n",
            "Точність моделі: 0.5\n"
          ]
        }
      ]
    },
    {
      "cell_type": "markdown",
      "source": [
        "📌 Що робить кожна функція:\n",
        "\n",
        "predict_proba — повертає ймовірності належності до класу 1.\n",
        "\n",
        "predict — повертає 0 або 1 залежно від заданого порогу (за замовчуванням 0.5).\n",
        "\n",
        "accuracy — обчислює частку правильних передбачень."
      ],
      "metadata": {
        "id": "cSuzHikVUqbn"
      }
    }
  ]
}